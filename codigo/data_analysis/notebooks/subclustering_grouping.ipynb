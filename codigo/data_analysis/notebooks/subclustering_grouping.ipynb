{
 "cells": [
  {
   "cell_type": "code",
   "execution_count": null,
   "metadata": {},
   "outputs": [],
   "source": [
    "import pandas as pd\n",
    "import numpy as np\n",
    "import matplotlib.pyplot as plt\n",
    "import seaborn as sns\n",
    "from sklearn.cluster import MiniBatchKMeans\n",
    "from sklearn.metrics import pairwise_distances_argmin_min\n",
    "from sklearn.neighbors import NearestNeighbors"
   ]
  },
  {
   "cell_type": "code",
   "execution_count": null,
   "metadata": {},
   "outputs": [],
   "source": [
    "# Carregar os dados\n",
    "data = pd.read_csv(\"../data_source/amostra_total.csv\", sep=';')\n",
    "data = data[[\"INDICE\", \"LATITUDE\", \"LONGITUDE\", \"LOGRADOURO\", \"NUMERO\"]]"
   ]
  },
  {
   "cell_type": "code",
   "execution_count": null,
   "metadata": {},
   "outputs": [],
   "source": [
    "# Parâmetros\n",
    "first_n_clusters = 42\n",
    "subclusters_per_leiturista = 22\n",
    "min_points_per_cluster = 350\n",
    "max_points_per_cluster = 450"
   ]
  },
  {
   "cell_type": "code",
   "execution_count": null,
   "metadata": {},
   "outputs": [],
   "source": [
    "# Clusterização inicial\n",
    "kmeans = MiniBatchKMeans(n_clusters=first_n_clusters, random_state=8081)\n",
    "data['LEITURISTA'] = kmeans.fit_predict(data[['LATITUDE', 'LONGITUDE']])"
   ]
  },
  {
   "cell_type": "code",
   "execution_count": null,
   "metadata": {},
   "outputs": [],
   "source": [
    "# Função para subclusterização com ajuste local\n",
    "def adjust_clusters_locally(data, min_points, max_points):\n",
    "    subcluster_id = 0\n",
    "    for leiturista in range(first_n_clusters):\n",
    "        subcluster_data = data[data['LEITURISTA'] == leiturista]\n",
    "        if len(subcluster_data) <= max_points:\n",
    "            data.loc[subcluster_data.index, 'SUBCLUSTER'] = subcluster_id\n",
    "            subcluster_id += 1\n",
    "            continue\n",
    "        \n",
    "        kmeans_22 = MiniBatchKMeans(n_clusters=int(np.ceil(len(subcluster_data) / max_points)), random_state=8081)\n",
    "        subclusters = kmeans_22.fit_predict(subcluster_data[['LATITUDE', 'LONGITUDE']])\n",
    "        \n",
    "        subcluster_sizes = pd.Series(subclusters).value_counts()\n",
    "        small_subclusters = subcluster_sizes[subcluster_sizes < min_points].index.tolist()\n",
    "        \n",
    "        for subcluster in np.unique(subclusters):\n",
    "            indices = subcluster_data.index[subclusters == subcluster]\n",
    "            if len(indices) >= min_points:\n",
    "                data.loc[indices, 'SUBCLUSTER'] = subcluster_id\n",
    "                subcluster_id += 1\n",
    "            else:\n",
    "                if len(subcluster_data[subcluster_data['SUBCLUSTER'] != -1]) > 0:\n",
    "                    nearest_subcluster = subcluster_data[subcluster_data['SUBCLUSTER'] != -1]['SUBCLUSTER'].values\n",
    "                    nearest_points = subcluster_data[subcluster_data['SUBCLUSTER'] != -1][['LATITUDE', 'LONGITUDE']].values\n",
    "                    nearest = pairwise_distances_argmin_min(subcluster_data.loc[[idx], ['LATITUDE', 'LONGITUDE']], nearest_points)\n",
    "                    data.loc[idx, 'SUBCLUSTER'] = nearest_subcluster[nearest[0][0]]\n",
    "                else:\n",
    "                    data.loc[indices, 'SUBCLUSTER'] = subcluster_id\n",
    "                    subcluster_id += 1\n",
    "        \n",
    "    return data"
   ]
  },
  {
   "cell_type": "code",
   "execution_count": null,
   "metadata": {},
   "outputs": [],
   "source": [
    "# Ajustar clusters localmente\n",
    "data['SUBCLUSTER'] = -1\n",
    "data = adjust_clusters_locally(data, min_points_per_cluster, max_points_per_cluster)"
   ]
  },
  {
   "cell_type": "code",
   "execution_count": null,
   "metadata": {},
   "outputs": [],
   "source": [
    "# Função para categorizar a quantidade de pontos em cada intervalo\n",
    "def categorize_points(count):\n",
    "    intervals = {\n",
    "        'Muito Abaixo (menos de 100)': (0, 99),\n",
    "        'Abaixo (100-349)': (100, 349),\n",
    "        'Dentro da Média (350-450)': (350, 450),\n",
    "        'Acima (451-800)': (451, 800),\n",
    "        'Muito Acima (mais de 800)': (801, float('inf'))\n",
    "    }\n",
    "    for category, (low, high) in intervals.items():\n",
    "        if low <= count <= high:\n",
    "            return category\n",
    "    return None"
   ]
  },
  {
   "cell_type": "code",
   "execution_count": null,
   "metadata": {},
   "outputs": [],
   "source": [
    "# Calcular as estatísticas\n",
    "stats = []\n",
    "subcluster_counts = data['SUBCLUSTER'].value_counts()\n",
    "\n",
    "for subcluster, count in subcluster_counts.items():\n",
    "    stats.append({\n",
    "        'SUBCLUSTER': subcluster,\n",
    "        'COUNT': count,\n",
    "        'CATEGORY': categorize_points(count)\n",
    "    })\n",
    "\n",
    "stats_df = pd.DataFrame(stats)"
   ]
  },
  {
   "cell_type": "code",
   "execution_count": null,
   "metadata": {},
   "outputs": [],
   "source": [
    "# Contagem de subclusters dentro de cada intervalo\n",
    "category_counts = stats_df['CATEGORY'].value_counts().to_dict()"
   ]
  },
  {
   "cell_type": "code",
   "execution_count": null,
   "metadata": {},
   "outputs": [],
   "source": [
    "# Adicionar categorias que não estão presentes no DataFrame\n",
    "intervals = {\n",
    "    'Muito Abaixo (menos de 100)': (0, 99),\n",
    "    'Abaixo (100-349)': (100, 349),\n",
    "    'Dentro da Média (350-450)': (350, 450),\n",
    "    'Acima (451-800)': (451, 800),\n",
    "    'Muito Acima (mais de 800)': (801, float('inf'))\n",
    "}\n",
    "\n",
    "for category in intervals.keys():\n",
    "    if category not in category_counts:\n",
    "        category_counts[category] = 0"
   ]
  },
  {
   "cell_type": "code",
   "execution_count": null,
   "metadata": {},
   "outputs": [],
   "source": [
    "print(\"Contagem de subclusters dentro de cada intervalo após redistribuição:\")\n",
    "for category, count in category_counts.items():\n",
    "    print(f\"{category}: {count}\")"
   ]
  },
  {
   "cell_type": "code",
   "execution_count": null,
   "metadata": {},
   "outputs": [],
   "source": [
    "# Salvar as novas estatísticas em um arquivo CSV\n",
    "stats_df.to_csv(f'../cluster/{first_n_clusters}_clusters_stats_adjusted_with_categories.csv', index=False)"
   ]
  },
  {
   "cell_type": "code",
   "execution_count": null,
   "metadata": {},
   "outputs": [],
   "source": [
    "# Plotar os clusters ajustados\n",
    "def plot_clusters_sns(df, num_clusters, cluster_col, title, filename):\n",
    "    plt.figure(figsize=(10, 6))\n",
    "    palette = sns.color_palette(\"hsv\", num_clusters)\n",
    "    sns.scatterplot(data=df, x='LONGITUDE', y='LATITUDE', hue=cluster_col, palette=palette, s=50, legend=None)\n",
    "    plt.title(title)\n",
    "    plt.xlabel('Longitude')\n",
    "    plt.ylabel('Latitude')\n",
    "    plt.savefig(filename)\n",
    "    plt.close()"
   ]
  },
  {
   "cell_type": "code",
   "execution_count": null,
   "metadata": {},
   "outputs": [],
   "source": [
    "plot_clusters_sns(data, first_n_clusters, 'SUBCLUSTER', f'{first_n_clusters} Clusters Ajustados', f'../cluster/{first_n_clusters}_subclusters_ajustados.png')"
   ]
  }
 ],
 "metadata": {
  "kernelspec": {
   "display_name": "Python 3",
   "language": "python",
   "name": "python3"
  },
  "language_info": {
   "codemirror_mode": {
    "name": "ipython",
    "version": 3
   },
   "file_extension": ".py",
   "mimetype": "text/x-python",
   "name": "python",
   "nbconvert_exporter": "python",
   "pygments_lexer": "ipython3",
   "version": "3.10.9"
  }
 },
 "nbformat": 4,
 "nbformat_minor": 2
}
