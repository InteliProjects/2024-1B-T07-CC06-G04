{
 "cells": [
  {
   "cell_type": "markdown",
   "metadata": {},
   "source": [
    "# Mapa Amostra Total"
   ]
  },
  {
   "cell_type": "markdown",
   "metadata": {},
   "source": [
    "## Imports and packages"
   ]
  },
  {
   "cell_type": "code",
   "execution_count": null,
   "metadata": {},
   "outputs": [],
   "source": [
    "import pandas as pd\n",
    "import numpy as np\n",
    "from geopy.geocoders import Nominatim\n",
    "import folium\n",
    "import random"
   ]
  },
  {
   "cell_type": "code",
   "execution_count": null,
   "metadata": {},
   "outputs": [],
   "source": [
    "df = pd.read_csv(\"./cluster/clusters_kmeans.csv\")"
   ]
  },
  {
   "cell_type": "code",
   "execution_count": null,
   "metadata": {},
   "outputs": [],
   "source": [
    "df_c = df.copy()"
   ]
  },
  {
   "cell_type": "markdown",
   "metadata": {},
   "source": [
    "## Filters"
   ]
  },
  {
   "cell_type": "code",
   "execution_count": null,
   "metadata": {},
   "outputs": [],
   "source": [
    "\n",
    "# Seleciona 10% dos dados aleatoriamente\n",
    "df_sample = df_c.sample(frac=0.1, random_state=42)\n",
    "\n",
    "# Cria um dicionário de cores para cada código de rota\n",
    "unique_route_codes = df_sample['CODIGO_ROTA'].unique()\n",
    "colors = ['black', 'orange', 'darkblue', 'lightgreen', 'beige', 'lightred', 'blue', 'pink', 'white', 'gray', 'lightblue', 'darkred', 'cadetblue', 'purple', 'red', 'darkgreen', 'lightgray', 'darkpurple', 'green']\n",
    "random.shuffle(colors)\n",
    "route_colors = {}\n",
    "\n",
    "for i, route_code in enumerate(unique_route_codes):\n",
    "    color = colors[i % len(colors)] \n",
    "    route_colors[route_code] = color\n"
   ]
  },
  {
   "cell_type": "markdown",
   "metadata": {},
   "source": [
    "## Plot map"
   ]
  },
  {
   "cell_type": "code",
   "execution_count": null,
   "metadata": {},
   "outputs": [],
   "source": [
    "# Cria um mapa centrado em uma localização inicial\n",
    "map = folium.Map(location=[-22.81146, -43.326529], zoom_start=10)\n",
    "\n",
    "# Cria um dicionário de cores para cada rótulo de cluster\n",
    "unique_labels = df_sample['cluster_labels'].unique()\n",
    "random.shuffle(colors)\n",
    "label_colors = {label: color for label, color in zip(unique_labels, colors)}\n",
    "\n",
    "# Adiciona marcadores para cada localização no DataFrame amostrado\n",
    "for index, row in df_sample.iterrows():\n",
    "    try:\n",
    "        label = row['cluster_labels']\n",
    "        color = label_colors.get(label, '#000000')  # Use preto como cor padrão para rótulos não encontrados\n",
    "        folium.CircleMarker(\n",
    "            location=[row['LATITUDE'], row['LONGITUDE']],\n",
    "            icon=folium.Icon(color=color),\n",
    "            radius=1,\n",
    "        ).add_to(map)\n",
    "    except Exception as e:\n",
    "        print(f\"Erro ao adicionar marcador para o índice {index}: {e}\")\n",
    "        continue\n",
    "\n",
    "# Salve o mapa como um arquivo HTML\n",
    "map.save(\"mapa_total.html\")"
   ]
  }
 ],
 "metadata": {
  "kernelspec": {
   "display_name": "Python 3",
   "language": "python",
   "name": "python3"
  },
  "language_info": {
   "codemirror_mode": {
    "name": "ipython",
    "version": 3
   },
   "file_extension": ".py",
   "mimetype": "text/x-python",
   "name": "python",
   "nbconvert_exporter": "python",
   "pygments_lexer": "ipython3",
   "version": "3.12.3"
  }
 },
 "nbformat": 4,
 "nbformat_minor": 2
}
