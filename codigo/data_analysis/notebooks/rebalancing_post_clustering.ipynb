{
 "cells": [
  {
   "cell_type": "code",
   "execution_count": null,
   "metadata": {},
   "outputs": [],
   "source": [
    "import pandas as pd\n",
    "import numpy as np\n",
    "import matplotlib.pyplot as plt\n",
    "import seaborn as sns\n",
    "from sklearn.cluster import MiniBatchKMeans\n",
    "from sklearn.metrics import pairwise_distances_argmin_min"
   ]
  },
  {
   "cell_type": "code",
   "execution_count": null,
   "metadata": {},
   "outputs": [],
   "source": [
    "# Carregar os dados\n",
    "data = pd.read_csv(\"../data_source/amostra_total.csv\", sep=';')\n",
    "data = data[[\"INDICE\", \"LATITUDE\", \"LONGITUDE\", \"LOGRADOURO\", \"NUMERO\"]]"
   ]
  },
  {
   "cell_type": "code",
   "execution_count": null,
   "metadata": {},
   "outputs": [],
   "source": [
    "# Definir os parâmetros\n",
    "first_n_clusters = 42\n",
    "min_points_per_cluster = 350\n",
    "max_points_per_cluster = 450"
   ]
  },
  {
   "cell_type": "code",
   "execution_count": null,
   "metadata": {},
   "outputs": [],
   "source": [
    "intervals = {\n",
    "        'Muito Abaixo (menos de 100)': (0, 99),\n",
    "        'Abaixo (100-349)': (100, 349),\n",
    "        'Dentro da Média (350-450)': (350, 450),\n",
    "        'Acima (451-800)': (451, 800),\n",
    "        'Muito Acima (mais de 800)': (801, float('inf'))\n",
    "    }"
   ]
  },
  {
   "cell_type": "code",
   "execution_count": null,
   "metadata": {},
   "outputs": [],
   "source": [
    "# Clusterização inicial\n",
    "kmeans = MiniBatchKMeans(n_clusters=first_n_clusters, random_state=8081)\n",
    "data['LEITURISTA'] = kmeans.fit_predict(data[['LATITUDE', 'LONGITUDE']])"
   ]
  },
  {
   "cell_type": "code",
   "execution_count": null,
   "metadata": {},
   "outputs": [],
   "source": [
    "\n",
    "# Função para plotar os clusters\n",
    "def plot_clusters_sns(df, num_clusters, cluster_col, title, filename):\n",
    "    plt.figure(figsize=(10, 6))\n",
    "    palette = sns.color_palette(\"hsv\", num_clusters)\n",
    "    sns.scatterplot(data=df, x='LONGITUDE', y='LATITUDE', hue=cluster_col, palette=palette, s=50, legend=None)\n",
    "    plt.title(title)\n",
    "    plt.xlabel('Longitude')\n",
    "    plt.ylabel('Latitude')\n",
    "    plt.savefig(filename)\n",
    "    plt.close()"
   ]
  },
  {
   "cell_type": "code",
   "execution_count": null,
   "metadata": {},
   "outputs": [],
   "source": [
    "# Função para categorizar a quantidade de pontos em cada intervalo\n",
    "def categorize_points(count):\n",
    "    intervals = {\n",
    "        'Muito Abaixo (menos de 100)': (0, 99),\n",
    "        'Abaixo (100-349)': (100, 349),\n",
    "        'Dentro da Média (350-450)': (350, 450),\n",
    "        'Acima (451-800)': (451, 800),\n",
    "        'Muito Acima (mais de 800)': (801, float('inf'))\n",
    "    }\n",
    "    for category, (low, high) in intervals.items():\n",
    "        if low <= count <= high:\n",
    "            return category\n",
    "    return None\n"
   ]
  },
  {
   "cell_type": "code",
   "execution_count": null,
   "metadata": {},
   "outputs": [],
   "source": [
    "# Função para rebalancear os clusters mantendo a proximidade geográfica\n",
    "def rebalance_clusters(df, min_count, max_count):\n",
    "    cluster_counts = df['LEITURISTA'].value_counts().to_dict()\n",
    "    \n",
    "    while True:\n",
    "        # Identificar clusters desbalanceados\n",
    "        clusters_above = {k: v for k, v in cluster_counts.items() if v > max_count}\n",
    "        clusters_below = {k: v for k, v in cluster_counts.items() if v < min_count}\n",
    "        \n",
    "        if not clusters_above or not clusters_below:\n",
    "            break\n",
    "        \n",
    "        # Selecionar clusters desbalanceados\n",
    "        cluster_above = max(clusters_above, key=clusters_above.get)\n",
    "        cluster_below = min(clusters_below, key=clusters_below.get)\n",
    "        \n",
    "        # Calcular número de pontos para transferir\n",
    "        points_to_transfer = min(\n",
    "            clusters_above[cluster_above] - max_count,\n",
    "            min_count - clusters_below[cluster_below]\n",
    "        )\n",
    "        \n",
    "        # Encontrar pontos a serem transferidos\n",
    "        points_above = df[df['LEITURISTA'] == cluster_above]\n",
    "        centroid_below = kmeans.cluster_centers_[cluster_below]\n",
    "        _, indices = pairwise_distances_argmin_min(points_above[['LATITUDE', 'LONGITUDE']], [centroid_below])\n",
    "        points_selected = points_above.iloc[indices[:points_to_transfer]]\n",
    "        \n",
    "        # Transferir pontos\n",
    "        df.loc[points_selected.index, 'LEITURISTA'] = cluster_below\n",
    "        cluster_counts[cluster_above] -= points_to_transfer\n",
    "        cluster_counts[cluster_below] += points_to_transfer\n"
   ]
  },
  {
   "cell_type": "code",
   "execution_count": null,
   "metadata": {},
   "outputs": [],
   "source": [
    "# Rebalancear os clusters\n",
    "rebalance_clusters(data, min_points_per_cluster, max_points_per_cluster)"
   ]
  },
  {
   "cell_type": "code",
   "execution_count": null,
   "metadata": {},
   "outputs": [],
   "source": [
    "# Recalcular os dias para os clusters ajustados\n",
    "for leiturista in range(first_n_clusters):\n",
    "    subcluster_data = data[data['LEITURISTA'] == leiturista]\n",
    "    if len(subcluster_data) >= 22:\n",
    "        kmeans_22 = MiniBatchKMeans(n_clusters=22, random_state=8081)\n",
    "        data.loc[subcluster_data.index, 'DIA'] = kmeans_22.fit_predict(subcluster_data[['LATITUDE', 'LONGITUDE']])\n",
    "    else:\n",
    "        data.loc[subcluster_data.index, 'DIA'] = np.arange(len(subcluster_data))"
   ]
  },
  {
   "cell_type": "code",
   "execution_count": null,
   "metadata": {},
   "outputs": [],
   "source": [
    "# Calcular as estatísticas\n",
    "stats = []\n",
    "for leiturista in range(first_n_clusters):\n",
    "    subcluster_data = data[data['LEITURISTA'] == leiturista]\n",
    "    dias_counts = subcluster_data['DIA'].value_counts()\n",
    "    for dia, count in dias_counts.items():\n",
    "        stats.append({\n",
    "            'LEITURISTA': leiturista,\n",
    "            'DIA': dia,\n",
    "            'COUNT': count,\n",
    "            'CATEGORY': categorize_points(count)\n",
    "        })\n",
    "\n",
    "stats_df = pd.DataFrame(stats)"
   ]
  },
  {
   "cell_type": "code",
   "execution_count": null,
   "metadata": {},
   "outputs": [],
   "source": [
    "# Contagem de dias dentro de cada intervalo\n",
    "category_counts = stats_df['CATEGORY'].value_counts().to_dict()"
   ]
  },
  {
   "cell_type": "code",
   "execution_count": null,
   "metadata": {},
   "outputs": [],
   "source": [
    "# Adicionar categorias que não estão presentes no DataFrame\n",
    "for category in intervals.keys():\n",
    "    if category not in category_counts:\n",
    "        category_counts[category] = 0"
   ]
  },
  {
   "cell_type": "code",
   "execution_count": null,
   "metadata": {},
   "outputs": [],
   "source": [
    "print(\"Contagem de dias dentro de cada intervalo após redistribuição:\")\n",
    "for category, count in category_counts.items():\n",
    "    print(f\"{category}: {count}\")"
   ]
  },
  {
   "cell_type": "code",
   "execution_count": null,
   "metadata": {},
   "outputs": [],
   "source": [
    "# Salvar as novas estatísticas em um arquivo CSV\n",
    "stats_df.to_csv(f'../cluster/{first_n_clusters}_clusters_stats_adjusted_with_categories.csv', index=False)\n",
    "\n",
    "# Plotar os clusters ajustados\n",
    "plot_clusters_sns(data, first_n_clusters, 'LEITURISTA', f'{first_n_clusters} Clusters Ajustados', f'../cluster/{first_n_clusters}_clusters_ajustados.png')"
   ]
  }
 ],
 "metadata": {
  "kernelspec": {
   "display_name": "Python 3",
   "language": "python",
   "name": "python3"
  },
  "language_info": {
   "codemirror_mode": {
    "name": "ipython",
    "version": 3
   },
   "file_extension": ".py",
   "mimetype": "text/x-python",
   "name": "python",
   "nbconvert_exporter": "python",
   "pygments_lexer": "ipython3",
   "version": "3.10.9"
  }
 },
 "nbformat": 4,
 "nbformat_minor": 2
}
