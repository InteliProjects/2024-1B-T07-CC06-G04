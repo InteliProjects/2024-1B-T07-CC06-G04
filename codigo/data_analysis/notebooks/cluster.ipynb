{
 "cells": [
  {
   "cell_type": "markdown",
   "metadata": {},
   "source": [
    "# Clusterização Amostra Total"
   ]
  },
  {
   "cell_type": "markdown",
   "metadata": {},
   "source": [
    "## Imports and packages"
   ]
  },
  {
   "cell_type": "code",
   "execution_count": null,
   "metadata": {},
   "outputs": [],
   "source": [
    "import pandas as pd\n",
    "import matplotlib.pyplot as plt\n",
    "from sklearn.cluster import KMeans\n",
    "import seaborn as sns\n",
    "from sklearn.cluster import DBSCAN\n",
    "import os"
   ]
  },
  {
   "cell_type": "code",
   "execution_count": null,
   "metadata": {},
   "outputs": [],
   "source": [
    "df = pd.read_csv(\"./data_source/amostra_total.csv\",  sep=';')"
   ]
  },
  {
   "cell_type": "code",
   "execution_count": null,
   "metadata": {},
   "outputs": [],
   "source": [
    "df_c = df.copy()"
   ]
  },
  {
   "cell_type": "code",
   "execution_count": null,
   "metadata": {},
   "outputs": [],
   "source": [
    "df_c.info()"
   ]
  },
  {
   "cell_type": "code",
   "execution_count": null,
   "metadata": {},
   "outputs": [],
   "source": [
    "df_c.head()"
   ]
  },
  {
   "cell_type": "markdown",
   "metadata": {},
   "source": [
    "## K-Means"
   ]
  },
  {
   "cell_type": "code",
   "execution_count": null,
   "metadata": {},
   "outputs": [],
   "source": [
    "# Selecionar as características relevantes para a clusterização\n",
    "X = df[['LATITUDE', 'LONGITUDE']]\n",
    "\n",
    "# Instanciar o modelo K-means com o número desejado de clusters para o projeto\n",
    "kmeans = KMeans(n_clusters=6000)\n",
    "\n",
    "# Treinar o modelo\n",
    "kmeans.fit(X)\n",
    "\n",
    "df['cluster_labels'] = kmeans.labels_\n",
    "\n",
    "# Verificar se a pasta 'cluster' já existe, se não, criar\n",
    "if not os.path.exists('cluster'):\n",
    "    os.makedirs('cluster')\n",
    "\n",
    "# Caminho para salvar o arquivo CSV dentro da pasta 'cluster'\n",
    "file_path = os.path.join('cluster', 'clusters_kmeans.csv')\n",
    "\n",
    "# Salvar os clusters em um arquivo CSV dentro da pasta 'cluster'\n",
    "df.to_csv(file_path, index=False)\n",
    "\n",
    "# Obter o número total de clusters\n",
    "num_clusters = len(set(kmeans.labels_))\n",
    "\n",
    "# Plotagem dos clusters\n",
    "plt.figure(figsize=(15, 7))\n",
    "scatter = sns.scatterplot(x='LONGITUDE', y='LATITUDE', hue='cluster_labels', data=df, palette='viridis', alpha=0.5, sizes=10)\n",
    "\n",
    "# Adicionar legenda no gráfico\n",
    "plt.legend(title='Quantidade de Clusters', fontsize='small', title_fontsize='medium', labels=[f'{num_clusters} clusters'], loc='upper center', bbox_to_anchor=(0.5, -0.1), ncol=1)\n",
    "plt.xlabel('Longitude')\n",
    "plt.ylabel('Latitude')\n",
    "plt.title('K-means')\n",
    "\n",
    "plt.show()"
   ]
  },
  {
   "cell_type": "markdown",
   "metadata": {},
   "source": [
    "## DBSCAN"
   ]
  },
  {
   "cell_type": "code",
   "execution_count": null,
   "metadata": {},
   "outputs": [],
   "source": [
    "# Reduzir o tamanho do conjunto de dados\n",
    "df_sample = df.sample(frac=0.1) \n",
    "\n",
    "# Selecionar as características relevantes para a clusterização\n",
    "X = df_sample[['LATITUDE', 'LONGITUDE']]\n",
    "\n",
    "# Instanciar o modelo DBSCAN com os parâmetros desejados\n",
    "dbscan = DBSCAN(eps=0.1, min_samples=10)\n",
    "\n",
    "# Treinar o modelo\n",
    "dbscan.fit(X)\n",
    "\n",
    "df_sample['cluster_labels'] = dbscan.labels_\n",
    "\n",
    "# Verificar se a pasta 'cluster' já existe, se não, criar\n",
    "if not os.path.exists('cluster'):\n",
    "    os.makedirs('cluster')\n",
    "\n",
    "# Caminho para salvar o arquivo CSV dentro da pasta 'cluster'\n",
    "file_path = os.path.join('cluster', 'clusters_dbscan.csv')\n",
    "\n",
    "# Salvar os clusters em um arquivo CSV dentro da pasta 'cluster'\n",
    "df_sample.to_csv(file_path, index=False)\n",
    "\n",
    "# Obter o número total de clusters (desconsiderando o rótulo de ruído, -1)\n",
    "num_clusters = len(set(dbscan.labels_)) - (1 if -1 in dbscan.labels_ else 0)\n",
    "\n",
    "# Plotagem dos clusters\n",
    "plt.figure(figsize=(15, 7))\n",
    "scatter = sns.scatterplot(x='LONGITUDE', y='LATITUDE', hue='cluster_labels', data=df_sample, palette='viridis', alpha=0.5, sizes=10)\n",
    "\n",
    "# Adicionar legenda no gráfico\n",
    "plt.legend(title='Quantidade de Clusters', fontsize='small', title_fontsize='medium', labels=[f'{num_clusters} clusters'], loc='upper center', bbox_to_anchor=(0.5, -0.1), ncol=1)\n",
    "plt.xlabel('Longitude')\n",
    "plt.ylabel('Latitude')\n",
    "plt.title('DBSCAN')\n",
    "\n",
    "plt.show()"
   ]
  }
 ],
 "metadata": {
  "kernelspec": {
   "display_name": "Python 3",
   "language": "python",
   "name": "python3"
  },
  "language_info": {
   "codemirror_mode": {
    "name": "ipython",
    "version": 3
   },
   "file_extension": ".py",
   "mimetype": "text/x-python",
   "name": "python",
   "nbconvert_exporter": "python",
   "pygments_lexer": "ipython3",
   "version": "3.12.3"
  }
 },
 "nbformat": 4,
 "nbformat_minor": 2
}
