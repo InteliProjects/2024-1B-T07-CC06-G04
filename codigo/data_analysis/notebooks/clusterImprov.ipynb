{
 "cells": [
  {
   "cell_type": "code",
   "execution_count": null,
   "metadata": {},
   "outputs": [],
   "source": [
    "'''\n",
    "378300 / (300 * 22) = 57.31\n",
    "378300 / (250 * 22) = 68.78\n",
    "378300 / (200 * 22) = 85.97\n",
    "378300 / (100 * 22) = 171.95\n",
    "378300 / (80 * 22) = 214.94\n",
    "378300 / (55 * 22) = 312.64\n",
    "378300 / (42 * 22) = 409.41\n",
    "'''"
   ]
  },
  {
   "cell_type": "code",
   "execution_count": null,
   "metadata": {},
   "outputs": [],
   "source": [
    "import pandas as pd\n",
    "import numpy as np\n",
    "import matplotlib.pyplot as plt\n",
    "import seaborn as sns\n",
    "from sklearn.cluster import MiniBatchKMeans\n",
    "from sklearn.metrics import pairwise_distances_argmin_min\n",
    "from sklearn.neighbors import NearestNeighbors"
   ]
  },
  {
   "cell_type": "code",
   "execution_count": null,
   "metadata": {},
   "outputs": [],
   "source": [
    "# Leitura dos dados\n",
    "data = pd.read_csv(\"../data_source/amostra_total.csv\", sep=';')\n",
    "data = data[[\"INDICE\", \"LATITUDE\", \"LONGITUDE\", \"LOGRADOURO\", \"NUMERO\"]]"
   ]
  },
  {
   "cell_type": "code",
   "execution_count": null,
   "metadata": {},
   "outputs": [],
   "source": [
    "# Definição de parâmetros\n",
    "first_n_clusters = 42\n",
    "n_of_days = 22"
   ]
  },
  {
   "cell_type": "code",
   "execution_count": null,
   "metadata": {},
   "outputs": [],
   "source": [
    "# Clusterização inicial por leiturista\n",
    "kmeans = MiniBatchKMeans(n_clusters=first_n_clusters, random_state=8081)\n",
    "data['LEITURISTA'] = kmeans.fit_predict(data[['LATITUDE', 'LONGITUDE']])"
   ]
  },
  {
   "cell_type": "code",
   "execution_count": null,
   "metadata": {},
   "outputs": [],
   "source": [
    "# Inicialização das colunas DIA e ROTA\n",
    "data['DIA'] = -1\n",
    "data['ROTA'] = -1"
   ]
  },
  {
   "cell_type": "code",
   "execution_count": null,
   "metadata": {},
   "outputs": [],
   "source": [
    "# Processamento de cada cluster de leiturista\n",
    "for leiturista in range(first_n_clusters):\n",
    "    subcluster_data = data[data['LEITURISTA'] == leiturista]\n",
    "    if len(subcluster_data) >= n_of_days:\n",
    "        kmeans_22 = MiniBatchKMeans(n_clusters=n_of_days, random_state=8081)\n",
    "        subcluster_data['DIA'] = kmeans_22.fit_predict(subcluster_data[['LATITUDE', 'LONGITUDE']])\n",
    "    else:\n",
    "        subcluster_data['DIA'] = np.arange(len(subcluster_data))\n",
    "    \n",
    "    # Atualização do dataframe principal\n",
    "    data.loc[subcluster_data.index, 'DIA'] = subcluster_data['DIA']"
   ]
  },
  {
   "cell_type": "code",
   "execution_count": null,
   "metadata": {},
   "outputs": [],
   "source": [
    "# Criação da coluna ROTA\n",
    "data['ROTA'] = data.apply(lambda row: row['LEITURISTA'] * n_of_days + row['DIA'], axis=1)"
   ]
  },
  {
   "cell_type": "code",
   "execution_count": null,
   "metadata": {},
   "outputs": [],
   "source": [
    "# Salvamento do resultado em CSV\n",
    "data.to_csv(f'../cluster/{first_n_clusters}clusters.csv', index=False)"
   ]
  },
  {
   "cell_type": "code",
   "execution_count": null,
   "metadata": {},
   "outputs": [],
   "source": [
    "# Função para plotar os clusters\n",
    "def plot_clusters_sns(df, num_clusters, cluster_col, title, filename):\n",
    "    plt.figure(figsize=(10, 6))\n",
    "    palette = sns.color_palette(\"hsv\", num_clusters)\n",
    "    sns.scatterplot(data=df, x='LONGITUDE', y='LATITUDE', hue=cluster_col, palette=palette, s=50, legend=None)\n",
    "    plt.title(title)\n",
    "    plt.xlabel('Longitude')\n",
    "    plt.ylabel('Latitude')\n",
    "    plt.savefig(filename)\n",
    "    plt.close()"
   ]
  },
  {
   "cell_type": "code",
   "execution_count": null,
   "metadata": {},
   "outputs": [],
   "source": [
    "# Plotagem dos clusters\n",
    "plot_clusters_sns(data, first_n_clusters, 'LEITURISTA', f'{first_n_clusters} Clusters', f'../cluster/{first_n_clusters}_clusters.png')"
   ]
  },
  {
   "cell_type": "code",
   "execution_count": null,
   "metadata": {},
   "outputs": [],
   "source": [
    "# Contagem do número de pontos por rota\n",
    "rota_counts = data['ROTA'].value_counts()"
   ]
  },
  {
   "cell_type": "code",
   "execution_count": null,
   "metadata": {},
   "outputs": [],
   "source": [
    "# Classificação das rotas\n",
    "below_range = rota_counts[rota_counts < 350].count()\n",
    "within_range = rota_counts[(rota_counts >= 350) & (rota_counts <= 450)].count()\n",
    "above_range = rota_counts[rota_counts > 450].count()"
   ]
  },
  {
   "cell_type": "code",
   "execution_count": null,
   "metadata": {},
   "outputs": [],
   "source": [
    "\n",
    "# Exibição dos resultados\n",
    "print(f\"Rotas abaixo de 350 pontos: {below_range}\")\n",
    "print(f\"Rotas dentro do intervalo de 350-450 pontos: {within_range}\")\n",
    "print(f\"Rotas acima de 450 pontos: {above_range}\")"
   ]
  },
  {
   "cell_type": "markdown",
   "metadata": {},
   "source": [
    "## Tentando balancear as rotas"
   ]
  },
  {
   "cell_type": "code",
   "execution_count": null,
   "metadata": {},
   "outputs": [],
   "source": [
    "# Função para balancear as rotas iterativamente\n",
    "def iterative_balance_routes(df, min_points=350, max_points=450, max_iterations=100):\n",
    "    df_balanced = df.copy()\n",
    "    iteration = 0\n",
    "    \n",
    "    while iteration < max_iterations:\n",
    "        rota_counts = df_balanced['ROTA'].value_counts()\n",
    "        below_routes = rota_counts[rota_counts < min_points].index\n",
    "        above_routes = rota_counts[rota_counts > max_points].index\n",
    "        \n",
    "        if not below_routes.any() and not above_routes.any():\n",
    "            break\n",
    "        \n",
    "        for route in below_routes:\n",
    "            points_needed = min_points - len(df_balanced[df_balanced['ROTA'] == route])\n",
    "            closest_points = df_balanced[df_balanced['ROTA'].isin(above_routes)][['LATITUDE', 'LONGITUDE']].to_numpy()\n",
    "            if closest_points.size == 0:\n",
    "                continue\n",
    "            \n",
    "            neigh = NearestNeighbors(n_neighbors=points_needed)\n",
    "            neigh.fit(closest_points)\n",
    "            nearest_points_idx = neigh.kneighbors(df_balanced[df_balanced['ROTA'] == route][['LATITUDE', 'LONGITUDE']].to_numpy(), return_distance=False)\n",
    "            nearest_points = df_balanced.iloc[nearest_points_idx.flatten()]\n",
    "            points_to_transfer = min(points_needed, len(nearest_points))\n",
    "            \n",
    "            if points_to_transfer > 0:\n",
    "                points_transferred = nearest_points.iloc[:points_to_transfer]\n",
    "                df_balanced.loc[points_transferred.index, 'ROTA'] = route\n",
    "        \n",
    "        iteration += 1\n",
    "    \n",
    "    return df_balanced"
   ]
  },
  {
   "cell_type": "code",
   "execution_count": null,
   "metadata": {},
   "outputs": [],
   "source": [
    "# Balanceamento das rotas\n",
    "data_balanced = iterative_balance_routes(data)"
   ]
  },
  {
   "cell_type": "code",
   "execution_count": null,
   "metadata": {},
   "outputs": [],
   "source": [
    "# Contagem do número de pontos por rota após balanceamento\n",
    "rota_counts_balanced = data_balanced['ROTA'].value_counts()"
   ]
  },
  {
   "cell_type": "code",
   "execution_count": null,
   "metadata": {},
   "outputs": [],
   "source": [
    "# Classificação das rotas após balanceamento\n",
    "below_range_balanced = rota_counts_balanced[rota_counts_balanced < 350].count()\n",
    "within_range_balanced = rota_counts_balanced[(rota_counts_balanced >= 350) & (rota_counts_balanced <= 450)].count()\n",
    "above_range_balanced = rota_counts_balanced[rota_counts_balanced > 450].count()"
   ]
  },
  {
   "cell_type": "code",
   "execution_count": null,
   "metadata": {},
   "outputs": [],
   "source": [
    "# Exibição dos resultados\n",
    "print(f\"Após balanceamento:\")\n",
    "print(f\"Rotas abaixo de 350 pontos: {below_range_balanced}\")\n",
    "print(f\"Rotas dentro do intervalo de 350-450 pontos: {within_range_balanced}\")\n",
    "print(f\"Rotas acima de 450 pontos: {above_range_balanced}\")"
   ]
  },
  {
   "cell_type": "code",
   "execution_count": null,
   "metadata": {},
   "outputs": [],
   "source": [
    "# Salvamento do resultado em CSV\n",
    "data_balanced.to_csv(f'../cluster/{first_n_clusters}clusters_balanced.csv', index=False)"
   ]
  },
  {
   "cell_type": "code",
   "execution_count": null,
   "metadata": {},
   "outputs": [],
   "source": [
    "# Função para plotar os clusters com destaque para rotas abaixo de 350 pontos\n",
    "def plot_clusters_sns_highlight_below_350(df, below_routes, num_clusters, cluster_col, title, filename):\n",
    "    plt.figure(figsize=(10, 6))\n",
    "    palette = sns.color_palette(\"hsv\", num_clusters)\n",
    "    mask_below_350 = df['ROTA'].isin(below_routes)\n",
    "    sns.scatterplot(data=df[~mask_below_350], x='LONGITUDE', y='LATITUDE', hue=cluster_col, palette=palette, s=50, legend=None)\n",
    "    sns.scatterplot(data=df[mask_below_350], x='LONGITUDE', y='LATITUDE', color='red', s=50, legend=None)\n",
    "    plt.legend(title='Below 350 Points', loc='upper left', labels=['Below 350 Points'])\n",
    "    plt.title(title)\n",
    "    plt.xlabel('Longitude')\n",
    "    plt.ylabel('Latitude')\n",
    "    plt.savefig(filename)\n",
    "    plt.close()"
   ]
  },
  {
   "cell_type": "code",
   "execution_count": null,
   "metadata": {},
   "outputs": [],
   "source": [
    "below_350_routes_balanced = rota_counts_balanced[rota_counts_balanced < 350].index\n",
    "plot_clusters_sns_highlight_below_350(data_balanced, below_350_routes_balanced, first_n_clusters, 'LEITURISTA', f'{first_n_clusters} Clusters with Below 350 Points Highlighted', f'../cluster/{first_n_clusters}_clusters_highlighted_balanced.png')"
   ]
  }
 ],
 "metadata": {
  "kernelspec": {
   "display_name": "Python 3",
   "language": "python",
   "name": "python3"
  },
  "language_info": {
   "codemirror_mode": {
    "name": "ipython",
    "version": 3
   },
   "file_extension": ".py",
   "mimetype": "text/x-python",
   "name": "python",
   "nbconvert_exporter": "python",
   "pygments_lexer": "ipython3",
   "version": "3.10.9"
  }
 },
 "nbformat": 4,
 "nbformat_minor": 2
}
