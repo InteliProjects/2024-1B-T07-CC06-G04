{
 "cells": [
  {
   "cell_type": "markdown",
   "metadata": {},
   "source": [
    "# Project - Aegea"
   ]
  },
  {
   "cell_type": "markdown",
   "metadata": {},
   "source": [
    "## Imports and packages"
   ]
  },
  {
   "cell_type": "code",
   "execution_count": null,
   "metadata": {},
   "outputs": [],
   "source": [
    "from numba import jit\n",
    "import pandas as pd\n",
    "import numpy as np\n",
    "from geopy.geocoders import Nominatim\n",
    "import folium"
   ]
  },
  {
   "cell_type": "code",
   "execution_count": null,
   "metadata": {},
   "outputs": [],
   "source": [
    "df = pd.read_csv(\"./data_source/amostra_menor.csv\", sep=\";\")"
   ]
  },
  {
   "cell_type": "code",
   "execution_count": null,
   "metadata": {},
   "outputs": [],
   "source": [
    "df_c = df.copy()"
   ]
  },
  {
   "cell_type": "markdown",
   "metadata": {},
   "source": [
    "## Functions"
   ]
  },
  {
   "cell_type": "code",
   "execution_count": null,
   "metadata": {},
   "outputs": [],
   "source": [
    "coords = df_c[['LATITUDE', 'LONGITUDE']].values"
   ]
  },
  {
   "cell_type": "code",
   "execution_count": null,
   "metadata": {},
   "outputs": [],
   "source": [
    "@jit(nopython=True)\n",
    "def haversine(lat1, lon1, lat2, lon2):\n",
    "    R = 6371.0  # Raio da Terra em km\n",
    "    # Convertendo para radianos manualmente dentro da função\n",
    "    lat1, lon1, lat2, lon2 = lat1 * np.pi / 180.0, lon1 * np.pi / 180.0, lat2 * np.pi / 180.0, lon2 * np.pi / 180.0\n",
    "    dlat = lat2 - lat1\n",
    "    dlon = lon2 - lon1\n",
    "\n",
    "    a = np.sin(dlat / 2) ** 2 + np.cos(lat1) * np.cos(lat2) * np.sin(dlon / 2) ** 2\n",
    "    c = 2 * np.arctan2(np.sqrt(a), np.sqrt(1 - a))\n",
    "\n",
    "    distance = R * c\n",
    "    return distance"
   ]
  },
  {
   "cell_type": "code",
   "execution_count": null,
   "metadata": {},
   "outputs": [],
   "source": [
    "# Função para calcular distâncias e encontrar o ponto mais próximo\n",
    "@jit(nopython=True)\n",
    "def calculate_distances(coords):\n",
    "    n = coords.shape[0]\n",
    "    distances = np.full((n, n), np.inf)\n",
    "    for i in range(n):\n",
    "        for j in range(n):\n",
    "            if i != j:\n",
    "                distances[i, j] = haversine(coords[i, 0], coords[i, 1], coords[j, 0], coords[j, 1])\n",
    "    return distances"
   ]
  },
  {
   "cell_type": "code",
   "execution_count": null,
   "metadata": {},
   "outputs": [],
   "source": [
    "# Função para extrair os vizinhos mais próximos de uma matriz de distâncias\n",
    "@jit(nopython=True)\n",
    "def create_tour(distances):\n",
    "    n = distances.shape[0]\n",
    "    visited = np.zeros(n, dtype=np.bool_)\n",
    "    tour = [0]  # start at the first point\n",
    "    visited[0] = True\n",
    "\n",
    "    for _ in range(1, n):\n",
    "        last = tour[-1]\n",
    "        next_idx = np.argmin(distances[last, :] + 1e9 * visited)\n",
    "        tour.append(next_idx)\n",
    "        visited[next_idx] = True\n",
    "\n",
    "    tour.append(tour[0])  # return to start to close the cycle\n",
    "    return tour"
   ]
  },
  {
   "cell_type": "markdown",
   "metadata": {},
   "source": [
    "## Data cleaning"
   ]
  },
  {
   "cell_type": "code",
   "execution_count": null,
   "metadata": {},
   "outputs": [],
   "source": [
    "df_c.info()"
   ]
  },
  {
   "cell_type": "code",
   "execution_count": null,
   "metadata": {},
   "outputs": [],
   "source": [
    "df_c.head()"
   ]
  },
  {
   "cell_type": "markdown",
   "metadata": {},
   "source": [
    "## Plot map"
   ]
  },
  {
   "cell_type": "code",
   "execution_count": null,
   "metadata": {},
   "outputs": [],
   "source": [
    "dist_matrix = calculate_distances(coords)\n",
    "tour = create_tour(dist_matrix)"
   ]
  },
  {
   "cell_type": "code",
   "execution_count": null,
   "metadata": {},
   "outputs": [],
   "source": [
    "# Cria um mapa com um ponto central. Os valores centrais aqui são as médias das latitudes e longitudes\n",
    "mapa = folium.Map(location=[df_c['LATITUDE'].mean(), df_c['LONGITUDE'].mean()], zoom_start=12)\n",
    "\n",
    "# Adicionando marcadores\n",
    "for i, line in df_c.iterrows():\n",
    "    folium.CircleMarker(\n",
    "        location=[line['LATITUDE'], line['LONGITUDE']],\n",
    "        radius=5,\n",
    "        color='blue',\n",
    "        fill=True,\n",
    "        fill_color='blue',\n",
    "        fill_opacity=0.7,\n",
    "        popup=f\"Latitude: {line['LATITUDE']}\\nLongitude: {line['LONGITUDE']}\"\n",
    "    ).add_to(mapa)\n",
    "\n",
    "# Adding lines to form the tour\n",
    "for i in range(len(tour) - 1):\n",
    "    start_point = [df.iloc[tour[i]]['LATITUDE'], df.iloc[tour[i]]['LONGITUDE']]\n",
    "    end_point = [df.iloc[tour[i + 1]]['LATITUDE'], df.iloc[tour[i + 1]]['LONGITUDE']]\n",
    "    folium.PolyLine([start_point, end_point], color=\"red\").add_to(mapa)\n",
    "\n",
    "\n",
    "# Salvar o mapa em um arquivo HTML\n",
    "mapa.save('./maps/nearest_neighbor_map.html')"
   ]
  }
 ],
 "metadata": {
  "kernelspec": {
   "display_name": "Python 3",
   "language": "python",
   "name": "python3"
  },
  "language_info": {
   "codemirror_mode": {
    "name": "ipython",
    "version": 3
   },
   "file_extension": ".py",
   "mimetype": "text/x-python",
   "name": "python",
   "nbconvert_exporter": "python",
   "pygments_lexer": "ipython3",
   "version": "3.10.9"
  }
 },
 "nbformat": 4,
 "nbformat_minor": 2
}
