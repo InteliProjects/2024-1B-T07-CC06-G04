{
 "cells": [
  {
   "cell_type": "code",
   "execution_count": null,
   "metadata": {},
   "outputs": [],
   "source": [
    "import pandas as pd\n",
    "import numpy as np\n",
    "import matplotlib.pyplot as plt\n",
    "import seaborn as sns\n",
    "from sklearn.cluster import MiniBatchKMeans\n",
    "from scipy.spatial import distance_matrix"
   ]
  },
  {
   "cell_type": "code",
   "execution_count": null,
   "metadata": {},
   "outputs": [],
   "source": [
    "# leitura dos dados\n",
    "data = pd.read_csv(\"../data_source/amostra_total.csv\", sep=';')\n",
    "data = data[[\"INDICE\", \"LATITUDE\", \"LONGITUDE\", \"LOGRADOURO\", \"NUMERO\"]]"
   ]
  },
  {
   "cell_type": "code",
   "execution_count": null,
   "metadata": {},
   "outputs": [],
   "source": [
    "# parâmetros\n",
    "first_n_clusters = 50\n",
    "n_of_days = 22"
   ]
  },
  {
   "cell_type": "code",
   "execution_count": null,
   "metadata": {},
   "outputs": [],
   "source": [
    "# clusterização inicial por leiturista\n",
    "kmeans = MiniBatchKMeans(n_clusters=first_n_clusters, random_state=8081)\n",
    "data['LEITURISTA'] = kmeans.fit_predict(data[['LATITUDE', 'LONGITUDE']])"
   ]
  },
  {
   "cell_type": "code",
   "execution_count": null,
   "metadata": {},
   "outputs": [],
   "source": [
    "# inicialização das colunas DIA e ROTA\n",
    "data['DIA'] = -1\n",
    "data['ROTA'] = -1"
   ]
  },
  {
   "cell_type": "code",
   "execution_count": null,
   "metadata": {},
   "outputs": [],
   "source": [
    "# processamento de cada cluster de leiturista\n",
    "for leiturista in range(first_n_clusters):\n",
    "    subcluster_data = data[data['LEITURISTA'] == leiturista]\n",
    "    if len(subcluster_data) >= n_of_days:\n",
    "        kmeans_22 = MiniBatchKMeans(n_clusters=n_of_days, random_state=8081)\n",
    "        subcluster_data['DIA'] = kmeans_22.fit_predict(subcluster_data[['LATITUDE', 'LONGITUDE']])\n",
    "    else:\n",
    "        subcluster_data['DIA'] = np.arange(len(subcluster_data))\n",
    "    \n",
    "    # atualização do dataframe principal\n",
    "    data.loc[subcluster_data.index, 'DIA'] = subcluster_data['DIA']"
   ]
  },
  {
   "cell_type": "code",
   "execution_count": null,
   "metadata": {},
   "outputs": [],
   "source": [
    "# criação da coluna ROTA\n",
    "data['ROTA'] = data.apply(lambda row: row['LEITURISTA'] * n_of_days + row['DIA'], axis=1)"
   ]
  },
  {
   "cell_type": "code",
   "execution_count": null,
   "metadata": {},
   "outputs": [],
   "source": [
    "data.head()"
   ]
  },
  {
   "cell_type": "code",
   "execution_count": null,
   "metadata": {},
   "outputs": [],
   "source": [
    "# Calcular os centróides de cada rota\n",
    "centroides = data.groupby('ROTA')[['LATITUDE', 'LONGITUDE']].mean().reset_index()"
   ]
  },
  {
   "cell_type": "code",
   "execution_count": null,
   "metadata": {},
   "outputs": [],
   "source": [
    "plt.figure(figsize=(10, 6))\n",
    "sns.scatterplot(data=data, x='LONGITUDE', y='LATITUDE', hue='LEITURISTA', palette='tab20', legend=None)\n",
    "plt.title('Clusters Iniciais por Leiturista')\n",
    "plt.show()"
   ]
  },
  {
   "cell_type": "code",
   "execution_count": null,
   "metadata": {},
   "outputs": [],
   "source": [
    "leiturista = 7\n",
    "\n",
    "plt.figure(figsize=(10, 6))\n",
    "leiturista_data = data[data['LEITURISTA'] == leiturista]\n",
    "\n",
    "# rotas com menos de 300 pontos\n",
    "rotas_menor_300 = leiturista_data['ROTA'].value_counts()[leiturista_data['ROTA'].value_counts() < 300].index\n",
    "\n",
    "# plotar tudo\n",
    "sns.scatterplot(data=leiturista_data, x='LONGITUDE', y='LATITUDE', hue='DIA', palette='tab20', legend=None)\n",
    "\n",
    "# destacar rotas com menos de 300 pontos\n",
    "menor_300_data = leiturista_data[leiturista_data['ROTA'].isin(rotas_menor_300)]\n",
    "sns.scatterplot(data=menor_300_data, x='LONGITUDE', y='LATITUDE', hue='DIA', palette='tab20', edgecolor='red', legend=None, linewidth=1)\n",
    "\n",
    "# centróides ao gráfico\n",
    "leiturista_centroides = centroides[centroides['ROTA'].isin(leiturista_data['ROTA'])]\n",
    "plt.scatter(leiturista_centroides['LONGITUDE'], leiturista_centroides['LATITUDE'], s=100, c='black', marker='x')\n",
    "\n",
    "# destacar os centróides das rotas com menos de 300 pontos\n",
    "menor_300_centroides = centroides[centroides['ROTA'].isin(rotas_menor_300)]\n",
    "plt.scatter(menor_300_centroides['LONGITUDE'], menor_300_centroides['LATITUDE'], s=150, c='red', marker='o')\n",
    "\n",
    "# Conectar centróides de rotas vizinhas com menos de 300 pontos\n",
    "dist_matrix = distance_matrix(menor_300_centroides[['LATITUDE', 'LONGITUDE']], menor_300_centroides[['LATITUDE', 'LONGITUDE']])\n",
    "np.fill_diagonal(dist_matrix, np.inf)  # Preencher a diagonal com valores infinitos para evitar distância zero consigo mesmo\n",
    "\n",
    "for i in range(len(menor_300_centroides)):\n",
    "    nearest_neighbor_idx = np.argmin(dist_matrix[i])\n",
    "    plt.plot([menor_300_centroides.iloc[i]['LONGITUDE'], menor_300_centroides.iloc[nearest_neighbor_idx]['LONGITUDE']],\n",
    "             [menor_300_centroides.iloc[i]['LATITUDE'], menor_300_centroides.iloc[nearest_neighbor_idx]['LATITUDE']], 'k--')\n",
    "\n",
    "plt.title(f'Rotas para o Leiturista {leiturista}')\n",
    "plt.show()"
   ]
  },
  {
   "cell_type": "code",
   "execution_count": null,
   "metadata": {},
   "outputs": [],
   "source": [
    "leiturista = 7\n",
    "\n",
    "plt.figure(figsize=(10, 6))\n",
    "leiturista_data = data[data['LEITURISTA'] == leiturista]\n",
    "\n",
    "# rotas com menos de 300 pontos\n",
    "rotas_menor_300 = leiturista_data['ROTA'].value_counts()[leiturista_data['ROTA'].value_counts() < 300].index\n",
    "\n",
    "# plotar tudo\n",
    "sns.scatterplot(data=leiturista_data, x='LONGITUDE', y='LATITUDE', hue='DIA', palette='tab20', legend=None)\n",
    "\n",
    "# destacar rotas com menos de 300 pontos\n",
    "menor_300_data = leiturista_data[leiturista_data['ROTA'].isin(rotas_menor_300)]\n",
    "sns.scatterplot(data=menor_300_data, x='LONGITUDE', y='LATITUDE', hue='DIA', palette='tab20', edgecolor='red', legend=None, linewidth=1)\n",
    "\n",
    "# centróides ao gráfico\n",
    "leiturista_centroides = centroides[centroides['ROTA'].isin(leiturista_data['ROTA'])]\n",
    "plt.scatter(leiturista_centroides['LONGITUDE'], leiturista_centroides['LATITUDE'], s=100, c='black', marker='x')\n",
    "\n",
    "# destacar os centróides das rotas com menos de 300 pontos\n",
    "menor_300_centroides = centroides[centroides['ROTA'].isin(rotas_menor_300)]\n",
    "plt.scatter(menor_300_centroides['LONGITUDE'], menor_300_centroides['LATITUDE'], s=150, c='red', marker='o')\n",
    "\n",
    "# Conectar centróides de rotas vizinhas com menos de 300 pontos\n",
    "dist_matrix = distance_matrix(menor_300_centroides[['LATITUDE', 'LONGITUDE']], menor_300_centroides[['LATITUDE', 'LONGITUDE']])\n",
    "np.fill_diagonal(dist_matrix, np.inf)  # Preencher a diagonal com valores infinitos para evitar distância zero consigo mesmo\n",
    "\n",
    "for i in range(len(menor_300_centroides)):\n",
    "    nearest_neighbor_idx = np.argmin(dist_matrix[i])\n",
    "    rota_atual = menor_300_centroides.iloc[i]['ROTA']\n",
    "    rota_vizinha = menor_300_centroides.iloc[nearest_neighbor_idx]['ROTA']\n",
    "    \n",
    "    # Verificar se a soma dos pontos dos dois clusters é menor ou igual a 500\n",
    "    soma_pontos = (leiturista_data['ROTA'].value_counts()[rota_atual] + \n",
    "                   leiturista_data['ROTA'].value_counts()[rota_vizinha])\n",
    "    \n",
    "    if soma_pontos <= 500:\n",
    "        plt.plot([menor_300_centroides.iloc[i]['LONGITUDE'], menor_300_centroides.iloc[nearest_neighbor_idx]['LONGITUDE']],\n",
    "                 [menor_300_centroides.iloc[i]['LATITUDE'], menor_300_centroides.iloc[nearest_neighbor_idx]['LATITUDE']], 'k--')\n",
    "\n",
    "plt.title(f'Rotas para o Leiturista {leiturista}')\n",
    "plt.show()"
   ]
  },
  {
   "cell_type": "code",
   "execution_count": null,
   "metadata": {},
   "outputs": [],
   "source": [
    "leiturista = 2\n",
    "\n",
    "plt.figure(figsize=(10, 6))\n",
    "leiturista_data = data[data['LEITURISTA'] == leiturista]\n",
    "\n",
    "# rotas com menos de 300 pontos\n",
    "rotas_menor_300 = leiturista_data['ROTA'].value_counts()[leiturista_data['ROTA'].value_counts() < 300].index\n",
    "\n",
    "# plotar tudo\n",
    "sns.scatterplot(data=leiturista_data, x='LONGITUDE', y='LATITUDE', hue='DIA', palette='tab20', legend=None)\n",
    "\n",
    "# destacar rotas com menos de 300 pontos\n",
    "menor_300_data = leiturista_data[leiturista_data['ROTA'].isin(rotas_menor_300)]\n",
    "sns.scatterplot(data=menor_300_data, x='LONGITUDE', y='LATITUDE', hue='DIA', palette='tab20', edgecolor='red', legend=None, linewidth=1)\n",
    "\n",
    "# centróides ao gráfico\n",
    "leiturista_centroides = centroides[centroides['ROTA'].isin(leiturista_data['ROTA'])]\n",
    "plt.scatter(leiturista_centroides['LONGITUDE'], leiturista_centroides['LATITUDE'], s=100, c='black', marker='x')\n",
    "\n",
    "# destacar os centróides das rotas com menos de 300 pontos\n",
    "menor_300_centroides = centroides[centroides['ROTA'].isin(rotas_menor_300)]\n",
    "plt.scatter(menor_300_centroides['LONGITUDE'], menor_300_centroides['LATITUDE'], s=150, c='red', marker='o')\n",
    "\n",
    "# Conectar centróides de rotas vizinhas com menos de 300 pontos e unir clusters\n",
    "dist_matrix = distance_matrix(menor_300_centroides[['LATITUDE', 'LONGITUDE']], menor_300_centroides[['LATITUDE', 'LONGITUDE']])\n",
    "np.fill_diagonal(dist_matrix, np.inf)  # Preencher a diagonal com valores infinitos para evitar distância zero consigo mesmo\n",
    "\n",
    "for i in range(len(menor_300_centroides)):\n",
    "    nearest_neighbor_idx = np.argmin(dist_matrix[i])\n",
    "    rota_atual = menor_300_centroides.iloc[i]['ROTA']\n",
    "    rota_vizinha = menor_300_centroides.iloc[nearest_neighbor_idx]['ROTA']\n",
    "    \n",
    "    # Verificar se a soma dos pontos dos dois clusters é menor ou igual a 500\n",
    "    soma_pontos = (leiturista_data['ROTA'].value_counts()[rota_atual] + \n",
    "                   leiturista_data['ROTA'].value_counts()[rota_vizinha])\n",
    "    \n",
    "    if soma_pontos <= 500:\n",
    "        plt.plot([menor_300_centroides.iloc[i]['LONGITUDE'], menor_300_centroides.iloc[nearest_neighbor_idx]['LONGITUDE']],\n",
    "                 [menor_300_centroides.iloc[i]['LATITUDE'], menor_300_centroides.iloc[nearest_neighbor_idx]['LATITUDE']], 'k--')\n",
    "        \n",
    "        # Unir os clusters no dataframe\n",
    "        data.loc[data['ROTA'] == rota_vizinha, 'ROTA'] = rota_atual\n",
    "\n",
    "# Recalcular os centróides após a união dos clusters\n",
    "centroides = data.groupby('ROTA')[['LATITUDE', 'LONGITUDE']].mean().reset_index()\n",
    "\n",
    "plt.title(f'Rotas para o Leiturista {leiturista}')\n",
    "plt.show()\n",
    "\n",
    "# Plotar mapa atualizado\n",
    "plt.figure(figsize=(10, 6))\n",
    "sns.scatterplot(data=data[data['LEITURISTA'] == leiturista], x='LONGITUDE', y='LATITUDE', hue='ROTA', palette='tab20', legend=None)\n",
    "plt.title(f'Clusters Atualizados para o Leiturista {leiturista}')\n",
    "plt.show()\n",
    "\n",
    "# Printar o número de diferentes rotas para o leiturista\n",
    "num_rotas = len(data[data['LEITURISTA'] == leiturista]['ROTA'].unique())\n",
    "print(f'Número de diferentes rotas para o leiturista {leiturista}: {num_rotas}')"
   ]
  }
 ],
 "metadata": {
  "kernelspec": {
   "display_name": "Python 3",
   "language": "python",
   "name": "python3"
  },
  "language_info": {
   "codemirror_mode": {
    "name": "ipython",
    "version": 3
   },
   "file_extension": ".py",
   "mimetype": "text/x-python",
   "name": "python",
   "nbconvert_exporter": "python",
   "pygments_lexer": "ipython3",
   "version": "3.10.9"
  }
 },
 "nbformat": 4,
 "nbformat_minor": 2
}
